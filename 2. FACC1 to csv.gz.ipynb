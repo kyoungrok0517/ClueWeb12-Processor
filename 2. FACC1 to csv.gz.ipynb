{
 "cells": [
  {
   "cell_type": "code",
   "execution_count": 1,
   "metadata": {
    "collapsed": true
   },
   "outputs": [],
   "source": [
    "%reload_ext autoreload\n",
    "%autoreload 1"
   ]
  },
  {
   "cell_type": "code",
   "execution_count": 2,
   "metadata": {
    "collapsed": false
   },
   "outputs": [],
   "source": [
    "import tarfile\n",
    "from tarfile import TarInfo\n",
    "from glob import glob\n",
    "import dask.bag as db\n",
    "import dask.dataframe as dd\n",
    "import dask\n",
    "import os\n",
    "import pandas as pd\n",
    "from odo import odo\n",
    "from dask.diagnostics import ProgressBar\n",
    "from utils.facc1_reader import FACC1Reader"
   ]
  },
  {
   "cell_type": "markdown",
   "metadata": {},
   "source": [
    "# 출력 디렉토리 준비"
   ]
  },
  {
   "cell_type": "code",
   "execution_count": 3,
   "metadata": {
    "collapsed": false
   },
   "outputs": [],
   "source": [
    "def get_output_name(fpath):\n",
    "    return os.path.basename(fpath).replace('.tgz', '')\n",
    "\n",
    "def get_output_dir(fpath):\n",
    "    OUTPUT_DIR = '../../../Dataset/FACC1/output/'\n",
    "    fname = get_output_name(fpath)\n",
    "    return os.path.join(OUTPUT_DIR, fname)\n",
    "\n",
    "def get_output_path(fname):\n",
    "    output_dir = get_output_dir(fpath)\n",
    "    return os.path.join(output_dir, \"%s.csv.gz\" % fname)\n",
    "    \n",
    "def prepare_output_dirs(fpaths):\n",
    "    for fpath in fpaths:\n",
    "        output_dir = get_output_dir(fpath)\n",
    "        if not os.path.exists(output_dir):\n",
    "            os.makedirs(output_dir)"
   ]
  },
  {
   "cell_type": "code",
   "execution_count": 4,
   "metadata": {
    "collapsed": true
   },
   "outputs": [],
   "source": [
    "def each_partition(values):\n",
    "    for fpath in values:\n",
    "        print('Processing: ', fpath)\n",
    "        reader = FACC1Reader(fpath)\n",
    "        for fname, df in reader:\n",
    "            output_path = get_output_path(fname)\n",
    "            odo(df, output_path)\n",
    "\n",
    "def all_partition(values):\n",
    "    pass"
   ]
  },
  {
   "cell_type": "code",
   "execution_count": null,
   "metadata": {
    "collapsed": false
   },
   "outputs": [
    {
     "name": "stdout",
     "output_type": "stream",
     "text": [
      "Processing:  ../../../Dataset/FACC1/tgz/ClueWeb12_01.tgz\n"
     ]
    }
   ],
   "source": [
    "fpaths = sorted(glob('../../../Dataset/FACC1/tgz/*.tgz'))\n",
    "prepare_output_dirs(fpaths)\n",
    "\n",
    "b = db.from_sequence(fpaths[:1]).reduction(each_partition, all_partition)\n",
    "b.compute()"
   ]
  }
 ],
 "metadata": {
  "kernelspec": {
   "display_name": "Python 3",
   "language": "python",
   "name": "python3"
  },
  "language_info": {
   "codemirror_mode": {
    "name": "ipython",
    "version": 3
   },
   "file_extension": ".py",
   "mimetype": "text/x-python",
   "name": "python",
   "nbconvert_exporter": "python",
   "pygments_lexer": "ipython3",
   "version": "3.4.4"
  }
 },
 "nbformat": 4,
 "nbformat_minor": 0
}
