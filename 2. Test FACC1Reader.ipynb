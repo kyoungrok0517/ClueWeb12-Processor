{
 "cells": [
  {
   "cell_type": "code",
   "execution_count": null,
   "metadata": {
    "collapsed": false
   },
   "outputs": [],
   "source": [
    "import tarfile\n",
    "from tarfile import TarInfo\n",
    "import dask.bag as db\n",
    "import dask.dataframe as dd\n",
    "import dask\n",
    "import os\n",
    "import pandas as pd\n",
    "from odo import odo\n",
    "from dask.diagnostics import ProgressBar\n",
    "from utils.facc1_reader import FACC1Reader"
   ]
  },
  {
   "cell_type": "code",
   "execution_count": null,
   "metadata": {
    "collapsed": true
   },
   "outputs": [],
   "source": [
    "OUTPUT_DIR = '../../../Dataset/FACC1/output/'\n",
    "if not os.path.exists(OUTPUT_DIR):\n",
    "    os.mkdir(OUTPUT_DIR)"
   ]
  },
  {
   "cell_type": "code",
   "execution_count": null,
   "metadata": {
    "collapsed": false
   },
   "outputs": [],
   "source": [
    "columns = ['trec_id', 'encoding', 'entity', 'start', 'end', 'posterior', 'posterior_context_only', 'freebase_tag']\n",
    "fpath = '../../Data/FACC1/ClueWeb12_01.tgz'\n",
    "reader = FACC1Reader(fpath)\n",
    "for i, (name, f) in enumerate(reader):\n",
    "    df = pd.read_csv(f, sep='\\t', header=None, names=columns)\n",
    "    output_path = os.path.join(OUTPUT_DIR, \"%s.csv.gz\" % name)\n",
    "#     odo(df, output_path)\n",
    "    print(output_path)"
   ]
  }
 ],
 "metadata": {
  "kernelspec": {
   "display_name": "Python 3",
   "language": "python",
   "name": "python3"
  },
  "language_info": {
   "codemirror_mode": {
    "name": "ipython",
    "version": 3
   },
   "file_extension": ".py",
   "mimetype": "text/x-python",
   "name": "python",
   "nbconvert_exporter": "python",
   "pygments_lexer": "ipython3",
   "version": "3.4.4"
  }
 },
 "nbformat": 4,
 "nbformat_minor": 0
}
