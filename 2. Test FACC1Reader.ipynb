{
 "cells": [
  {
   "cell_type": "code",
   "execution_count": null,
   "metadata": {
    "collapsed": false
   },
   "outputs": [],
   "source": [
    "import tarfile\n",
    "from tarfile import TarInfo\n",
    "import dask.bag as db\n",
    "import dask.dataframe as dd\n",
    "import dask\n",
    "import os\n",
    "import pandas as pd\n",
    "from odo import odo\n",
    "from dask.diagnostics import ProgressBar\n",
    "# from utils.facc1_reader import FACC1Reader"
   ]
  },
  {
   "cell_type": "code",
   "execution_count": null,
   "metadata": {
    "collapsed": true
   },
   "outputs": [],
   "source": [
    "import tarfile\n",
    "from tarfile import TarInfo\n",
    "\n",
    "class FACC1Reader(object):\n",
    "    def __init__(self, fpath):\n",
    "        self.fpath = fpath\n",
    "    \n",
    "    def __iter__(self):\n",
    "        with tarfile.open(self.fpath, 'r:gz') as tar:\n",
    "            for member in tar.getmembers():\n",
    "                if member.name.endswith('.tsv'):\n",
    "                    yield tar.extractfile(member)"
   ]
  },
  {
   "cell_type": "code",
   "execution_count": null,
   "metadata": {
    "collapsed": true
   },
   "outputs": [],
   "source": [
    "OUTPUT_DIR = './output/'\n",
    "if not os.path.exists(OUTPUT_DIR):\n",
    "    os.mkdir(OUTPUT_DIR)"
   ]
  },
  {
   "cell_type": "code",
   "execution_count": null,
   "metadata": {
    "collapsed": false
   },
   "outputs": [],
   "source": [
    "columns = ['trec_id', 'encoding', 'entity', 'start', 'end', 'posterior', 'posterior_context_only', 'freebase_tag']\n",
    "fpath = '../../../Data/ClueWeb12_00.tgz'\n",
    "\n",
    "reader = FACC1Reader(fpath)\n",
    "for i, f in enumerate(reader):\n",
    "    df = pd.read_csv(f, sep='\\t', header=None, names=columns)\n",
    "    output_path = os.path.join(OUTPUT_DIR, \"%s.csv.gz\" % (i+1))\n",
    "    odo(df, output_path)"
   ]
  }
 ],
 "metadata": {
  "kernelspec": {
   "display_name": "Python 3",
   "language": "python",
   "name": "python3"
  },
  "language_info": {
   "codemirror_mode": {
    "name": "ipython",
    "version": 3
   },
   "file_extension": ".py",
   "mimetype": "text/x-python",
   "name": "python",
   "nbconvert_exporter": "python",
   "pygments_lexer": "ipython3",
   "version": "3.4.4"
  }
 },
 "nbformat": 4,
 "nbformat_minor": 0
}
