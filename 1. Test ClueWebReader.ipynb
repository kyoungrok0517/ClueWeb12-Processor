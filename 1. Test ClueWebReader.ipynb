{
 "cells": [
  {
   "cell_type": "code",
   "execution_count": 4,
   "metadata": {
    "collapsed": false
   },
   "outputs": [],
   "source": [
    "# coding: utf-8\n",
    "from utils.clueweb_reader import ClueWebReader"
   ]
  },
  {
   "cell_type": "code",
   "execution_count": 2,
   "metadata": {
    "collapsed": false
   },
   "outputs": [],
   "source": [
    "%load_ext autoreload\n",
    "%autoreload 2"
   ]
  },
  {
   "cell_type": "code",
   "execution_count": 71,
   "metadata": {
    "collapsed": false
   },
   "outputs": [
    {
     "name": "stdout",
     "output_type": "stream",
     "text": [
      "('clueweb12-0013wb-88-00000', <warc.utils.FilePart instance at 0x106afdf80>)\n",
      "('clueweb12-0013wb-88-00001', <warc.utils.FilePart instance at 0x106afddd0>)\n",
      "('clueweb12-0013wb-88-00002', <warc.utils.FilePart instance at 0x106afdf38>)\n",
      "('clueweb12-0013wb-88-00003', <warc.utils.FilePart instance at 0x106afddd0>)\n",
      "('clueweb12-0013wb-88-00004', <warc.utils.FilePart instance at 0x106afdf80>)\n",
      "('clueweb12-0013wb-88-00005', <warc.utils.FilePart instance at 0x106afddd0>)\n"
     ]
    }
   ],
   "source": [
    "reader = ClueWebReader('data/0013wb-88.warc.gz')\n",
    "for i, (h, r) in enumerate(reader):\n",
    "    print(h, r)\n",
    "\n",
    "    if i > 4:\n",
    "        break"
   ]
  },
  {
   "cell_type": "code",
   "execution_count": 69,
   "metadata": {
    "collapsed": false
   },
   "outputs": [
    {
     "data": {
      "text/plain": [
       "'clueweb12-0013wb-88-00005'"
      ]
     },
     "execution_count": 69,
     "metadata": {},
     "output_type": "execute_result"
    }
   ],
   "source": [
    "r.header['WARC-TREC-ID']"
   ]
  },
  {
   "cell_type": "markdown",
   "metadata": {},
   "source": [
    "# Record Counts (http://www.lemurproject.org/clueweb12/specs.php)\n",
    "```\n",
    "Segment\t# Records\n",
    "ClueWeb12_00\t45,278,522\n",
    "ClueWeb12_01\t44,389,316\n",
    "ClueWeb12_02\t44,069,951\n",
    "ClueWeb12_03\t42,491,359\n",
    "ClueWeb12_04\t36,026,724\n",
    "ClueWeb12_05\t21,720,416\n",
    "ClueWeb12_06\t23,101,855\n",
    "ClueWeb12_07\t30,503,029\n",
    "ClueWeb12_08\t39,712,288\n",
    "ClueWeb12_09\t38,540,335\n",
    "ClueWeb12_10\t39,802,260\n",
    "ClueWeb12_11\t40,754,618\n",
    "ClueWeb12_12\t38,606,284\n",
    "ClueWeb12_13\t31,329,242\n",
    "ClueWeb12_14\t32,95,0768\n",
    "ClueWeb12_15\t37,716,513\n",
    "ClueWeb12_16\t34,996,028\n",
    "ClueWeb12_17\t34,051,249\n",
    "ClueWeb12_18\t40,074,978\n",
    "ClueWeb12_19\t36,903,637\n",
    "Total\t733,019,372\n",
    "```"
   ]
  }
 ],
 "metadata": {
  "kernelspec": {
   "display_name": "Python2 (warc)",
   "language": "python",
   "name": "warc"
  },
  "language_info": {
   "codemirror_mode": {
    "name": "ipython",
    "version": 2
   },
   "file_extension": ".py",
   "mimetype": "text/x-python",
   "name": "python",
   "nbconvert_exporter": "python",
   "pygments_lexer": "ipython2",
   "version": "2.7.11"
  }
 },
 "nbformat": 4,
 "nbformat_minor": 0
}
